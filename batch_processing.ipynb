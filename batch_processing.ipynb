{
 "cells": [
  {
   "cell_type": "code",
   "execution_count": 9,
   "id": "a39f864e-5d43-443d-ba13-4eb4b15a62ef",
   "metadata": {},
   "outputs": [],
   "source": [
    "from utils.download_pdfs_from_url import download_papers\n",
    "from utils import icml_parser \n",
    "from pathlib import Path\n",
    "import pickle\n",
    "from tqdm import tqdm\n",
    "from IPython.display import Markdown"
   ]
  },
  {
   "cell_type": "markdown",
   "id": "19a1026c-9705-4acc-affe-1846c736d73e",
   "metadata": {},
   "source": [
    "## Project Parameters"
   ]
  },
  {
   "cell_type": "code",
   "execution_count": 2,
   "id": "e4085238-183b-43f6-9e32-d70cee84d71f",
   "metadata": {},
   "outputs": [],
   "source": [
    "PROJECT_DIR = './examples/icml_2024'\n",
    "\n",
    "paper_pdf_dir = Path(PROJECT_DIR, 'paper_pdfs')\n",
    "paper_summaries = Path(PROJECT_DIR, 'paper_summaries')\n",
    "paper_parsed_dir = Path(PROJECT_DIR, 'paper_parsed.pkl')\n",
    "paper_summaries_pkl = Path(PROJECT_DIR, 'paper_summaries.pkl') #{'overview':<>, 'best':[{'tag':<>. 'summary':<>}, ], 'all': []}\n",
    "paper_overview = Path(PROJECT_DIR, 'paper_overview.pkl')\n",
    "best_paper_ids_pkl = Path(PROJECT_DIR, 'best_paper_ids.pkl')\n",
    "paper_mp3 = Path(PROJECT_DIR, 'mp3') #overview.mp3, <tag>.mp3"
   ]
  },
  {
   "cell_type": "markdown",
   "id": "ac2323cd-9105-4e1b-82f8-239ef77ca29d",
   "metadata": {},
   "source": [
    "## Download and Parse all ICML papers"
   ]
  },
  {
   "cell_type": "code",
   "execution_count": 3,
   "id": "f2834ee6-2e52-4b21-a5cc-794db6907208",
   "metadata": {},
   "outputs": [],
   "source": [
    "#_ = download_papers('https://proceedings.mlr.press/v235/', paper_pdf_dir)\n",
    "\n",
    "#all_papers = icml_parser.parse_folder(paper_pdf_dir)\n",
    "#with open(paper_parsed_dir, 'wb') as f:\n",
    "#    pickle.dump(all_papers, f)"
   ]
  },
  {
   "cell_type": "markdown",
   "id": "eb3f19a2-72c9-47ac-9b4c-655590e0b23e",
   "metadata": {},
   "source": [
    "## Load ICML papers fomr pkl"
   ]
  },
  {
   "cell_type": "code",
   "execution_count": 3,
   "id": "8a65e72b-ffde-4a11-a2af-df35de3c6903",
   "metadata": {},
   "outputs": [
    {
     "data": {
      "text/plain": [
       "2610"
      ]
     },
     "execution_count": 3,
     "metadata": {},
     "output_type": "execute_result"
    }
   ],
   "source": [
    "with open(paper_parsed_dir, 'rb') as f:\n",
    "    all_papers = pickle.load(f)\n",
    "\n",
    "len(all_papers)"
   ]
  },
  {
   "cell_type": "markdown",
   "id": "b2438f22-25c1-4cab-a563-c9819c178919",
   "metadata": {},
   "source": [
    "## Generate Paper Summaries"
   ]
  },
  {
   "cell_type": "code",
   "execution_count": 8,
   "id": "7988bc83-721c-486d-b560-add0c4153621",
   "metadata": {},
   "outputs": [
    {
     "name": "stderr",
     "output_type": "stream",
     "text": [
      "1it [00:07,  7.13s/it]\n"
     ]
    }
   ],
   "source": [
    "'''\n",
    "# Google AI Studio parameters \n",
    "import time\n",
    "from utils.paper_ontology import *\n",
    "import os\n",
    "from IPython.display import Markdown\n",
    "\n",
    "genai.configure(api_key=\"<>\")\n",
    "flash = genai.GenerativeModel('gemini-1.5-flash')\n",
    "paper_summaries.mkdir(exist_ok=True, parents=True)\n",
    "\n",
    "for i,p in tqdm(enumerate([all_papers[2413:]])):\n",
    "    try:\n",
    "        po = PaperOntology(p, flash)\n",
    "        ps = po.create_summary()\n",
    "        fn = Path(paper_summaries, 'ps_'+str(i+2413)+'.pkl')\n",
    "        with open(fn, 'wb') as f:\n",
    "            pickle.dump(ps, f)\n",
    "    except:\n",
    "        # This handling will miss one paper in the process\n",
    "        print('deadline')\n",
    "        genai.configure(api_key=\"<>\")\n",
    "        flash = genai.GenerativeModel('gemini-1.5-flash')\n",
    "'''"
   ]
  },
  {
   "cell_type": "markdown",
   "id": "ceb008bc-67d6-42c7-a1c0-5ddd0457a4db",
   "metadata": {},
   "source": [
    "## Generate Overview"
   ]
  },
  {
   "cell_type": "code",
   "execution_count": 4,
   "id": "9f5934ab-8ae4-4722-9241-ee5e6bc64305",
   "metadata": {},
   "outputs": [],
   "source": [
    "summaries = []\n",
    "for i in range(len(all_papers)):\n",
    "    fn = Path(paper_summaries, 'ps_'+str(i)+'.pkl')\n",
    "    with open(fn, 'rb') as f:\n",
    "        s = pickle.load(f)\n",
    "    summaries.append(s)"
   ]
  },
  {
   "cell_type": "code",
   "execution_count": 5,
   "id": "57a66a24-347f-4277-a05b-fa19290252b5",
   "metadata": {},
   "outputs": [
    {
     "data": {
      "text/plain": [
       "2610"
      ]
     },
     "execution_count": 5,
     "metadata": {},
     "output_type": "execute_result"
    }
   ],
   "source": [
    "len(summaries)"
   ]
  },
  {
   "cell_type": "code",
   "execution_count": 30,
   "id": "81c83482-6959-48b7-a282-d0e7bd000cc0",
   "metadata": {},
   "outputs": [],
   "source": [
    "with open(paper_summaries_pkl, 'wb') as f:\n",
    "    pickle.dump(summaries, f)"
   ]
  },
  {
   "cell_type": "code",
   "execution_count": 21,
   "id": "aa8b1e99-8810-45f6-b2df-0f3b67a5a4ac",
   "metadata": {},
   "outputs": [
    {
     "data": {
      "text/markdown": [
       "Hello everyone!  Today, we're going to explore some super cool things computer scientists are working on.  It's all about making computers smarter and more helpful!  I'll explain some of the amazing research presented at a recent conference.\n",
       "\n",
       "**Section 1:  What Computers Can Do Now (Major Use Cases)**\n",
       "\n",
       "Imagine computers that can design better medicines, predict the weather more accurately, or even help you find exactly what you’re looking for in a huge online store! These are some of the things computer scientists are making possible.  At this conference, researchers showed us how computers are getting better at:\n",
       "\n",
       "* **Designing new materials:**  Computers can now help predict the shape and properties of tiny materials (nanomaterials), leading to better batteries, medicines, and even stronger buildings.\n",
       "* **Optimizing business processes:**  Computers are learning to make better decisions all on their own (Reinforcement Learning), helping businesses allocate resources efficiently, improve their supply chains, and personalize marketing campaigns.\n",
       "* **Understanding images and text:**  Computers can now “understand” both pictures and words, allowing for better image searches, automated descriptions of images, and improved content moderation.\n",
       "* **Making accurate predictions:**  Computers are getting better at predicting future trends (like sales or stock prices) by analyzing time series data. They’re also making great strides in predicting the properties of molecules, essential for drug discovery.\n",
       "* **Generating realistic data:**  Computers can create synthetic data—artificial data that mimics real data—including images, videos, text, and sounds. This is helpful for testing, improving existing models, and protecting privacy.\n",
       "* **Automating complex tasks:**   Computers can use AI to write code, perform various actions on web pages, or even act as virtual assistants that automate many tasks you do every day.\n",
       "* **Improving health:**   AI is analyzing medical data like EEGs and CT scans to detect illnesses earlier and with greater accuracy, leading to better treatment and improved patient care.\n",
       "* **Creating 3D models:** Computers are learning to create realistic 3D models of moving objects from videos, which has implications for everything from gaming to robotics to medical imaging.\n",
       "* **Protecting your data:**  Computer scientists are creating new ways to analyze sensitive data while maintaining strong privacy guarantees using techniques like differential privacy.\n",
       "\n",
       "\n",
       "**Section 2:  The Problems Computers Are Solving**\n",
       "\n",
       "These amazing capabilities solve some serious problems:\n",
       "\n",
       "* **Slow and expensive material development:**  Creating new nanomaterials is currently a slow and expensive process. AI can speed things up and reduce costs.\n",
       "* **Inefficient decision-making:**  Businesses often struggle to make the best decisions under uncertainty.  AI can help by learning optimal strategies through trial and error.\n",
       "* **Difficulty in processing large images and text:** Analyzing very large amounts of data is often difficult for computers.  Improved methods allow for efficient processing.\n",
       "* **Inaccurate predictions:**  Existing forecasting models might be imprecise, leading to poor planning and resource allocation.  AI is improving these predictions.\n",
       "* **Lack of realistic synthetic data:** Generating realistic simulated environments or data is computationally expensive. Advanced AI is making this more affordable and achievable.\n",
       "* **Difficulty in automating complex tasks:** Automating things like answering complex questions from data or interacting with web pages is challenging.  New AI models are getting significantly better at doing this.\n",
       "* **Compromised data privacy:** Many business decisions rely on sensitive customer data.   Improved AI methods enhance privacy protection during model training.\n",
       "* **Slow and costly model training:** Training large AI models can take a very long time and require lots of computational resources, adding to business costs. This is also a problem when trying to adapt to new tasks, or handle situations where you don't have access to all the model's components (\"black-box\").  Improved training methods can improve this considerably.\n",
       "* **Poorly calibrated models (overconfidence):** Highly accurate models can sometimes be overconfident in their predictions, leading to risky decisions.  New methods are improving model reliability.\n",
       "\n",
       "\n",
       "**Section 3: How Computers Are Solving These Problems**\n",
       "\n",
       "Computer scientists use many clever techniques:\n",
       "\n",
       "* **Artificial Intelligence (AI):**  This is the overall field of making computers smarter, encompassing the techniques below.\n",
       "* **Machine Learning (ML):**  This is like teaching a computer to learn from examples, without being explicitly programmed.\n",
       "* **Deep Learning:** This is a more advanced type of machine learning, typically involving complex interconnected systems called neural networks.  These neural networks have a similar concept to the structure of the human brain.\n",
       "* **Reinforcement Learning:** This is like teaching a computer through trial and error using \"rewards\" for correct answers.\n",
       "* **Neural Networks:**  These are the mathematical models that act like the \"brains\" of AI systems.  They are inspired by the network of neurons in the human brain.\n",
       "* **Graph Neural Networks:**  Specifically for handling data that consists of networks of relationships (like customers and products).\n",
       "* **Transformers:**  An extremely efficient and powerful type of neural network used for tasks like language processing and image understanding.\n",
       "* **Diffusion Models:**  A powerful technique for generating images or other data by gradually adding and removing noise from a signal.\n",
       "* **Optimal Transport:** A mathematical framework for comparing and transforming data distributions.  It is used to understand similarities and differences between datasets.\n",
       "* **Bayesian Methods:** A way of using probabilistic modeling to quantify and handle uncertainty, making it applicable to situations with limited or incomplete data.  This enables incorporating existing knowledge (\"prior\" information).\n",
       "* **Genetic Programming and Evolutionary Algorithms:** These strategies automate the process of improving models, similar to how evolution works.\n",
       "* **Various Optimization Algorithms:**  Computer scientists use sophisticated math to find the best settings for AI models, including gradient descent, Adam, and other more advanced methods.  These methods are designed to find solutions to complex mathematical problems efficiently.\n",
       "* **Various statistical techniques:**  Including maximum likelihood estimation, hypothesis testing, and Bayesian inference, depending on the specific problem.\n",
       "* **Cryptographic methods:** Used to protect sensitive data during analysis using methods like differential privacy and secure multi-party computation.  This ensures the privacy of each individual data contribution.\n",
       "\n",
       "\n",
       "\n",
       "**Section 4:  The Future of Computer Science**\n",
       "\n",
       "There's so much more to discover!  Researchers are working on:\n",
       "\n",
       "* **Making AI more efficient and sustainable:**  Reducing the energy needed to run AI models and reducing their environmental impact.\n",
       "* **Building more trustworthy and reliable AI:**  Developing methods to ensure AI systems are less prone to errors and biases.\n",
       "* **Improving AI explainability:**  Making it easier to understand how AI models make their decisions.\n",
       "* **Developing AI that can learn and adapt continuously:**  Creating AI systems that can learn from new data without \"forgetting\" what they already know.\n",
       "* **Expanding AI capabilities:**  Improving the way AI processes images, videos, sound, and other types of data.\n",
       "* **Creating better tools for automating various tasks:**   This includes developing AI models for tasks like code generation, web automation, and even acting as virtual assistants.\n",
       "* **Creating better methods for combining various types of data:** This includes methods to combine image and text data for advanced analysis, or combining various time-series data that may be collected at different frequencies (daily, monthly, quarterly).\n",
       "* **Improving methods for handling large datasets and optimizing AI model performance**:  This involves making models work efficiently with less data and improving the speed and stability of the training process.  It also involves handling \"noisy\" data (data with errors) and making models less sensitive to these errors.\n",
       "\n",
       "\n",
       "Computer science is a field full of exciting possibilities!  I hope this overview has sparked your curiosity and maybe even inspired you to learn more.\n"
      ],
      "text/plain": [
       "<IPython.core.display.Markdown object>"
      ]
     },
     "execution_count": 21,
     "metadata": {},
     "output_type": "execute_result"
    }
   ],
   "source": [
    "import google.generativeai as genai\n",
    "from utils.paper_ontology import create_overview\n",
    "\n",
    "genai.configure(api_key=\"<>\")\n",
    "flash = genai.GenerativeModel('gemini-1.5-flash')\n",
    "o_1 = create_overview(summaries[:700], flash)\n",
    "Markdown(o_1)"
   ]
  },
  {
   "cell_type": "code",
   "execution_count": 22,
   "id": "f749fb6c-3679-46ea-9ed4-4891f23bf3ea",
   "metadata": {},
   "outputs": [
    {
     "data": {
      "text/markdown": [
       "Hello everyone!  Today, we're going on an exciting adventure into the world of computer science!  We'll explore some of the cool things computer scientists are working on, based on papers from a recent conference.  Think of it like peeking into the future of technology!\n",
       "\n",
       "**Section 1: Amazing Things Computers Can Do (Use Cases)**\n",
       "\n",
       "Imagine a world where computers can:\n",
       "\n",
       "* **See like we do:**  They can look at pictures and understand what’s in them, even if it’s a blurry photo or something they've never seen before!  This is used for things like identifying products in a store, finding defects in manufacturing, or even helping doctors diagnose diseases from medical scans.\n",
       "* **Understand our language:**  Computers can read and write like humans, understanding the meaning of what we say or type and answering our questions, even very tricky ones. This is used for chatbots, search engines, and writing tools.\n",
       "* **Make smart decisions:** Computers can learn to make the best choices in complex situations, such as optimizing delivery routes, deciding which ads to show, or even controlling robots!\n",
       "* **Create new things:** They can generate realistic pictures, music, or even designs for new products!  This is used for creating advertisements, making video games, or even designing drugs.\n",
       "* **Protect our secrets:**  Computers can help us keep our private information safe when we use AI systems that need access to our data.  We’ll use this to protect medical records, financial information, and other sensitive details.\n",
       "* **Understand cause and effect:**  Computers can figure out which factors influence other things, even when some information is missing!   This can help businesses figure out what drives customer buying habits, or which factors lead to delays in production.\n",
       "\n",
       "\n",
       "\n",
       "**Section 2:  Solving Big Problems**\n",
       "\n",
       "Computer scientists are working hard to solve many challenging problems:\n",
       "\n",
       "* **Making AI faster and cheaper:**  Training and running AI models can be incredibly expensive and time-consuming. They're finding ways to build faster models that use less energy and need less storage space.\n",
       "* **Making AI more reliable:**  Sometimes, AI makes mistakes or isn't accurate in all situations.  They're working on making AI systems less prone to error, including when deliberately tricked (\"adversarial attacks\").\n",
       "* **Making AI safer:**  They're ensuring AI systems don\\'t cause harm or are used for harmful activities (like making misleading images or spreading false news).\n",
       "* **Making AI easier to understand:**  Often, it’s hard to understand *why* an AI makes a certain decision.  They're building systems that clearly explain their reasoning.\n",
       "* **Making AI fairer:**  AI systems need to treat everyone fairly, regardless of race, gender, or other factors.  They're working to eliminate bias and ensure equity in AI systems.\n",
       "* **Handling missing data:** Real-world data is often messy and incomplete. They’re finding ways to use AI to understand and process data with missing pieces, creating more accurate predictions.\n",
       "* **Understanding complex relationships in data:** AI needs to efficiently analyze relationships between data points, like those found in social networks, supply chains, or customer interactions.\n",
       "\n",
       "\n",
       "**Section 3: How They Solve These Problems**\n",
       "\n",
       "Computer scientists are using many creative tools:\n",
       "\n",
       "* **Neural Networks:** Imagine a network of interconnected nodes, much like the brain!  These are used for almost all the AI tasks above.\n",
       "* **Transformers:** These are particularly powerful neural networks capable of understanding and processing sequences of data, like text or images.\n",
       "* **Reinforcement Learning:**  Teaching AI systems to learn through trial and error, much like how we learn!  They give AI small rewards for good decisions and small penalties for bad ones.\n",
       "* **Generative Models:** These AI systems can create new data (images, videos, text, etc.) similar to what they've seen before.  It's like having a digital artist that can create unique but realistic images.\n",
       "* **Optimal Transport:**  A clever way of mathematically moving data points from one configuration to another to help find the most effective solutions. Imagine finding the shortest way to move all the groceries from the store to your home.\n",
       "* **Mathematics:** They’re using advanced math, including statistics and probability theory, to rigorously analyze these AI systems and find clever solutions to complex problems.  This ensures results are as trustworthy as possible.\n",
       "* **New evaluation methods:**  They are creating better ways to judge if their AI models are successful, making the development process more reliable.\n",
       "\n",
       "\n",
       "**Section 4: What's Next?**\n",
       "\n",
       "The future of computer science is bright!  Researchers are working on:\n",
       "\n",
       "* **Even faster and more efficient AI:**  Making AI systems that work even better and consume less energy. This is key for both environmental and economic reasons.\n",
       "* **More reliable and trustworthy AI:**  Reducing errors and improving the accuracy of AI systems, especially in situations where mistakes can have serious consequences.\n",
       "* **More explainable AI:** Building AI systems that clearly explain their decision-making processes, promoting better understanding, debugging, and ensuring fairness.\\n* **AI systems that continuously learn:**  Creating AI that can adapt to changing environments and learn new things without forgetting what it already knows.\\n* **AI that learns to solve problems efficiently:** Helping AI systems learn how to plan and achieve their goals more quickly and effectively, which is crucial for minimizing computing resources and costs.\\n* **AI that is less vulnerable to attacks:**  Protecting AI systems against deliberate attempts to trick or manipulate them.\n",
       "\n",
       "\n",
       "That's just a glimpse into the exciting world of computer science!  I hope this has sparked your curiosity, and maybe one day, you'll be the one making these amazing advancements!\n"
      ],
      "text/plain": [
       "<IPython.core.display.Markdown object>"
      ]
     },
     "execution_count": 22,
     "metadata": {},
     "output_type": "execute_result"
    }
   ],
   "source": [
    "o_2 = create_overview(summaries[700:1400], flash)\n",
    "Markdown(o_2)"
   ]
  },
  {
   "cell_type": "code",
   "execution_count": 24,
   "id": "70100640-82f3-4cb5-9c7c-d3892bd95843",
   "metadata": {},
   "outputs": [
    {
     "data": {
      "text/markdown": [
       "## An Exciting Overview of 2024 AI Research for 5th Graders!\n",
       "\n",
       "Imagine a world where computers can understand and solve problems almost as well as humans!  That's what computer scientists are working on, and the 2024 conference showed some amazing progress.  Let's explore some of the cool things they're doing.\n",
       "\n",
       "**Section 1: What can AI do?  Amazing Use Cases!**\n",
       "\n",
       "This year's conference papers showed AI can do tons of things!  Imagine:\n",
       "\n",
       "* **Super-smart helpers:**  AI can help us understand complicated problems.  It's like having many expert consultants working together to solve problems faster and more accurately.  This helps businesses like those that offer customer service respond to questions efficiently.\n",
       "* **Robot helpers:** AI can teach robots to do all sorts of things, even really complicated tasks.  They can learn new things without needing to be reprogrammed every time, which is like having a robot that can help you tidy your room, restock shelves, or even deliver packages, all without requiring a special program for each item.\n",
       "* **Better predictions:** AI can predict things like how many people will like a new product, when a machine will break, or where a storm will hit.  This helps businesses plan more effectively. This helps in various business sectors such as logistics where predicting the need for supplies and when to restock is critical.\n",
       "* **Keeping secrets safe:**  AI can help keep your private information safe. This helps companies that operate in highly regulated spaces, such as banks, to protect their customer data while still getting value from it.\n",
       "* **Making better art:** AI can create incredible art from simple words, helping improve advertising, gaming, and other areas requiring compelling visuals.\n",
       "\n",
       "\n",
       "**Section 2: What problems are these papers solving?**\n",
       "\n",
       "AI researchers are working on some tough challenges:\n",
       "\n",
       "* **Teaching computers new things:**  How can we train AI models quickly and easily for new tasks without forgetting what they already know? This is extremely relevant in many business applications where data needs to be continuously updated and where existing AI models need to be retrained from scratch when new products or business models are added.\n",
       "* **Handling messy data:**  Real-world data is often incomplete, noisy, or has incorrect labels. How can we train AI models to handle this messy data and still make accurate predictions? Many business data sources are messy and this is critical for accurate interpretations and decisions.\n",
       "* **Making fast and reliable predictions:**  How can we make sure AI models are not only accurate but also give us a good idea of how certain they are in their predictions?  This helps to better manage risk and avoid mistakes.\n",
       "* **Making AI safe:** How can we prevent AI systems from being manipulated or doing harmful things?  This is a critical business concern for many high-stakes applications.\n",
       "* **Keeping secrets safe:**  How can we use powerful AI tools without revealing people's private information? This is particularly important for business operations in regulated spaces.\n",
       "* **Finding the best solution:** Many business tasks involve a search for the best outcome from a vast number of possibilities. How do we perform this search efficiently and effectively?\n",
       "\n",
       "\n",
       "**Section 3: How are they solving these problems?  Cool methods!**\n",
       "\n",
       "Researchers are using some clever techniques:\n",
       "\n",
       "* **Having many experts:**  Some models combine the power of many smaller, specialized AI models, each an \"expert\" at different things. They learn which expert to consult for each part of a problem.\n",
       "* **Breaking down big problems:**  Complex tasks are split into smaller, easier-to-solve parts.  This is like assembling a LEGO castle;  you build small pieces to make a larger whole.\n",
       "* **Using pictures and words together:**  Models are trained to understand both images and text. This is like combining the visual and written information we use to learn and understand things, creating more capable AI systems.\n",
       "* **Learning from mistakes:**  Models are taught to learn from their errors, not just correct ones. This improves performance and reliability. This approach focuses on learning the \"why\" behind failures, rather than only focusing on successes.\n",
       "* **Adding clever noise:**  Adding noise to data during training helps to make models more robust and to protect private information.\n",
       "* **Using mathematical shortcuts:** Researchers are using advanced math to make AI models faster and more efficient.  This is like finding a shortcut to a destination, making the AI reach its goals faster with less computation.\n",
       "* **Leveraging existing expertise:**  Instead of starting completely from scratch, many models benefit from leveraging pre-existing powerful AI models. This is similar to utilizing the knowledge of an expert to improve learning efficiency.\n",
       "\n",
       "\n",
       "**Section 4: What's next?  The Future of AI!**\n",
       "\n",
       "There's so much more to discover!  Future research will focus on:\n",
       "\n",
       "* **Making AI even smarter:**  Developing AI models that can learn and adapt even more quickly and efficiently.\\n* **Improving AI safety and fairness:**  Ensuring AI systems are reliable, ethical, and unbiased.\\n* **Making AI more accessible:**  Developing AI solutions that are affordable and easy to use for businesses of all sizes.\\n* **Building more powerful robots:** Combining the advances in AI to make robots more capable and versatile.\\n* **Understanding how the brain works:** Learning from the efficiency and complexity of the human brain to develop better and more efficient AI.\n",
       "\n",
       "\n",
       "AI is a rapidly growing field.  The research presented at this year's conference shows just how much progress is being made.  It\\'s an exciting time to be involved, and who knows what amazing things will be possible in the future!\n"
      ],
      "text/plain": [
       "<IPython.core.display.Markdown object>"
      ]
     },
     "execution_count": 24,
     "metadata": {},
     "output_type": "execute_result"
    }
   ],
   "source": [
    "o_3 = create_overview(summaries[1400:2100], flash)\n",
    "Markdown(o_3)"
   ]
  },
  {
   "cell_type": "code",
   "execution_count": 26,
   "id": "bb306366-e717-48e2-82ae-d20319ed9677",
   "metadata": {},
   "outputs": [
    {
     "data": {
      "text/markdown": [
       "Good morning, everyone! Today, we're going on an exciting adventure into the world of computer science!  We'll explore some amazing things that computer scientists have been working on this year at a big conference.  Think of it like a science fair, but with super-smart computers!\n",
       "\n",
       "**Section 1:  Cool Things Computers Can Do (Use Cases)**\n",
       "\n",
       "This year's conference papers showed off some incredible things computers can do! Imagine these uses:\n",
       "\n",
       "* **Understanding Relationships:**  Computers can now understand complicated relationships between many things at once, not just simple pairs. Imagine understanding how all the parts of a car work together to predict when it might need a repair!  This helps companies plan better and fix problems faster.\n",
       "\n",
       "* **Grouping Similar Things:** Computers can group similar things together, even if some information is missing.  Think about sorting toys – a computer can group similar toys even if some toys are partially hidden or have missing labels! This helps businesses better understand customers, predict what they might buy, and even detect fraud.\n",
       "\n",
       "* **Recognizing Images and Words:** Computers can understand both images and words together.  Imagine a computer identifying a \"bird\" in a picture, even if it's a type of bird it hasn't seen before – this helps businesses categorize and search images more effectively.  It also helps improve the safety of self-driving cars.\n",
       "\n",
       "* **Building Better Images:** Computers can create very realistic images and videos from just text.  Think of being able to instantly create a picture of \"a cat wearing a hat\" – this makes advertising and product demonstration easier and quicker.  It’s also crucial for improving medical imaging.\n",
       "\n",
       "* **Making Better Decisions:**  Computers can make better decisions in uncertain situations, like quickly finding the best route for a delivery truck, especially in situations with unexpected delays or changing demands! This helps businesses save time and money.\n",
       "\n",
       "* **Understanding Cause and Effect:**  Computers are getting better at understanding why things happen, like determining which part of an ad campaign is most effective or identifying which factors are the most important for a customer's satisfaction. This helps businesses make better, more informed decisions.\n",
       "\n",
       "\n",
       "**Section 2: Problems Computers are Solving**\n",
       "\n",
       "These amazing computer tools solve real-world problems:\n",
       "\n",
       "* **Complex Relationships:** Current tools struggle to handle many things interacting simultaneously.  The new tools can analyze things like interactions in a social network or between parts of a machine to help predict the future.\n",
       "\n",
       "* **Incomplete Data:** Many datasets have missing information. The new tools can make smart guesses, leading to better predictions.\n",
       "\n",
       "* **Misleading Information:** AI models can sometimes get confused. The new tools help them focus on what's truly important, reducing errors.\n",
       "\n",
       "* **Poor Image Reconstruction:** It's difficult to get a clear picture from fuzzy images.  The new tools can rebuild clearer images, helping in everything from medical diagnoses to self-driving cars.\n",
       "\n",
       "* **Slow and Expensive AI:** Running large AI systems is expensive.  The new techniques make these systems faster and more affordable.\n",
       "\n",
       "* **Unfairness in AI:**  AI can sometimes be biased.  The new tools help identify and correct this bias, leading to fairer decisions.\n",
       "\n",
       "* **Privacy Violations:**  Using data requires being mindful of privacy. The new techniques help protect privacy when analyzing data.\n",
       "\n",
       "\n",
       "**Section 3: How Computers Solve These Problems**\n",
       "\n",
       "Scientists use clever tricks to make computers solve these problems:\n",
       "\n",
       "* **Smart Math:**  They use advanced mathematical formulas and techniques like Gaussian Processes and Tensor Decomposition to handle uncertainty and reveal hidden patterns in data.\n",
       "\n",
       "* **Improved Algorithms:**  They develop clever algorithms (like those used in clustering and classification) that are faster and more accurate.  Some new algorithms are designed to address data incompleteness directly.\n",
       "\n",
       "* **Neural Networks:** They use neural networks, which are like artificial brains, to learn complex patterns from data. The new neural networks are specifically designed for handling complex relationships and even learn how to better account for uncertainty.\n",
       "\n",
       "* **Diffusion Models:** They use diffusion models to make computers better at generating realistic images, videos, and even sounds.  These models are making many things like realistic advertising and product demonstration much more efficient.\n",
       "\n",
       "* **Better ways to handle uncertainty:**  A lot of the work shown in the conference focused on not just making predictions, but also telling us how reliable these predictions are!  This is crucial for making good decisions.\n",
       "\n",
       "* **Using Large Language Models:**  Large language models (LLMs), similar to the technology in ChatGPT, are used to understand complex relationships and generate explanations, making AI more transparent and trustworthy.\n",
       "\n",
       "\n",
       "**Section 4: What's Next? (Future Research)**\n",
       "\n",
       "Computer scientists are always working on making computers even better!  Here are some future directions:\n",
       "\n",
       "* **Even Faster AI:**  Making AI systems work much faster and more efficiently is a big focus.  This includes reducing the time it takes to train and run these systems, and finding more energy-efficient algorithms.\n",
       "\n",
       "* **Handling Noisy Data:** Making AI models more robust and reliable, even when the data they receive is inaccurate or incomplete.\n",
       "\n",
       "* **Explainable AI (XAI):**  Making AI systems more transparent and understandable, so that humans can trust and confidently use them.\n",
       "\n",
       "* **Fair and Ethical AI:**  Ensuring that AI systems are fair, unbiased, and respect privacy, avoiding discrimination.\n",
       "\n",
       "* **More powerful generative models:**  Improving computer’s ability to produce realistic and high-fidelity images, videos, and other data.\n",
       "\n",
       "* **Applications to real-world business scenarios:**  The conference showed many great theoretical improvements.  The next steps are to adapt these techniques to specific business problems and get the benefits directly for businesses!\n",
       "\n",
       "That's just a glimpse of the amazing things happening in computer science!  Who knows, maybe *you* will be the next computer scientist inventing these cool tools!\n"
      ],
      "text/plain": [
       "<IPython.core.display.Markdown object>"
      ]
     },
     "execution_count": 26,
     "metadata": {},
     "output_type": "execute_result"
    }
   ],
   "source": [
    "o_4 = create_overview(summaries[2100:], flash)\n",
    "Markdown(o_4)"
   ]
  },
  {
   "cell_type": "code",
   "execution_count": 22,
   "id": "91b9d92a-ee12-4391-9697-c6914d02a347",
   "metadata": {},
   "outputs": [],
   "source": [
    "with open(paper_overview, 'wb') as f:\n",
    "    pickle.dump(o_1, f)\n",
    "\n",
    "with open(Path(PROJECT_DIR, 'paper_all_overviews.pkl'), 'wb') as f:\n",
    "    pickle.dump([o_1, o_2, o_3, o_4], f)"
   ]
  },
  {
   "cell_type": "code",
   "execution_count": 47,
   "id": "91c6c5f3-c22d-4870-83d1-9180506a3aa8",
   "metadata": {},
   "outputs": [],
   "source": [
    "o = flash.generate_content(\n",
    "    '''\n",
    "    Create a comprehensive overview for ICML 2024 based on a list of four overviews, each overview is from a subset of all the papers. \\\n",
    "    In the first section, talk about major use cases discussed in conference papers. \\\n",
    "    In the second section, talk about what problems are being solved by the papers. \\\n",
    "    In the third section, talk about how are the problems being solved. What methods did the authors use. \\\n",
    "    In the fourth section, talk about future research directions. \\\n",
    "    Overview should be the similar length as individual overview. \\\n",
    "    Here is the list of four overviews: \\\n",
    "    ''' + '\\n\\n'.join([o_1, o_2, o_3, o_4])\n",
    ")"
   ]
  },
  {
   "cell_type": "code",
   "execution_count": 48,
   "id": "9ed04dfe-8050-4316-94ca-b2e34ab1147d",
   "metadata": {},
   "outputs": [
    {
     "data": {
      "text/markdown": [
       "This is a great overview of the exciting advancements in computer science, particularly in the field of AI! Here's a slightly revised version, aiming for a more concise and impactful presentation, suitable for a broader audience, including a 5th-grader:\n",
       "\n",
       "**The Amazing World of Computer Science: A Glimpse into the Future**\n",
       "\n",
       "Imagine computers that can see, understand, and even create things almost as well as humans!  That's what computer scientists are working on, and it's leading to some incredible advancements.\n",
       "\n",
       "**What Computers Can Do Now:**\n",
       "\n",
       "* **See the world:**  Computers are getting better at \"seeing\" images and videos, just like we do.  They can identify objects, faces, and even emotions!  This helps doctors find problems in medical images, self-driving cars see the road, and shops keep track of their products.\n",
       "\n",
       "* **Understand our words:**  Computers can now understand and respond to our language, like a really smart friend!  This helps create chatbots, smart search engines, and even helps write stories.\n",
       "\n",
       "* **Make Smart Decisions:**  Computers can help us make better choices by analyzing large amounts of information and learning from past experiences. This can help plan the best route for delivery trucks, suggest the right products for us to buy, or even help diagnose diseases.\n",
       "\n",
       "* **Create Amazing Things:**  Computers can now create impressive things like realistic images and videos, and even compose music!  This is used in making video games, making marketing more effective, and much, much more.\n",
       "\n",
       "* **Keep our Secrets Safe:**  Computers can help us protect our important information, such as medical and financial records, using clever methods to keep our data private.\n",
       "\n",
       "**How do they do it?**\n",
       "\n",
       "These amazing things are made possible through clever techniques like:\n",
       "\n",
       "* **Super-powered Brains:**  Computers are learning using \"neural networks,\" which are like networks of brains, to learn from large amounts of data, similar to how we learn from experience.\n",
       "* **Finding Patterns:**  Computers can now find hidden patterns in information that we might miss. This helps them predict things like weather and understand customer behavior.\n",
       "* **Working Together:**  Just like a team of people, many AI systems work together to solve problems and accomplish goals far more efficiently than a single AI could.\n",
       "* **Learning from Mistakes:**  Computers can now learn from their mistakes and improve their performance over time. Imagine learning to ride a bike, only much, much faster!\n",
       "\n",
       "\n",
       "**What's Next? The Future is Bright!**\n",
       "\n",
       "Computers are getting better at understanding and doing things that humans do, even better!  Scientists are working on making AI even smarter, more reliable, and safer. We can also expect AI to play a bigger role in many areas, including healthcare, transportation, and entertainment, making our lives easier and more efficient.  It's an exciting time to see what comes next!\n"
      ],
      "text/plain": [
       "<IPython.core.display.Markdown object>"
      ]
     },
     "execution_count": 48,
     "metadata": {},
     "output_type": "execute_result"
    }
   ],
   "source": [
    "Markdown(o.text)"
   ]
  },
  {
   "cell_type": "code",
   "execution_count": 20,
   "id": "d2e2f722-15af-4197-93e3-59ce143183d6",
   "metadata": {},
   "outputs": [
    {
     "data": {
      "text/plain": [
       "total_tokens: 984626"
      ]
     },
     "execution_count": 20,
     "metadata": {},
     "output_type": "execute_result"
    }
   ],
   "source": [
    "flash.count_tokens(str(summaries[0:1000]))"
   ]
  },
  {
   "cell_type": "code",
   "execution_count": 19,
   "id": "281190a8-199d-4cc4-ab5d-7f2f18dff7eb",
   "metadata": {},
   "outputs": [
    {
     "data": {
      "text/plain": [
       "2584709.1"
      ]
     },
     "execution_count": 19,
     "metadata": {},
     "output_type": "execute_result"
    }
   ],
   "source": [
    "99031*(2610/100)"
   ]
  },
  {
   "cell_type": "code",
   "execution_count": 6,
   "id": "1056009c-d21c-47a3-9b4b-52fc1a65b974",
   "metadata": {},
   "outputs": [],
   "source": [
    "from collections import defaultdict\n",
    "\n",
    "# Extract best papers \n",
    "best_papers = {\n",
    "    'Best Paper': ['Debating with more persuasive LLMs leads',\n",
    "                   'VideoPoet',\n",
    "                   'Information Complexity of Stochastic Convex Optimization:',\n",
    "                   'Probabilistic Inference in Language Models via Twisted Sequential Monte Carlo',\n",
    "                   'Position: Measure Dataset Diversity',\n",
    "                   'Genie: Generative Interactive Environments',\n",
    "                   'Discrete Diffusion Modeling by Estimating the Ratios of the Data Distribution',\n",
    "                   'Scaling Rectified Flow Transformers for High-Resolution Image Synthesis',\n",
    "                   'Stealing part of a production language model'\n",
    "                  ]\n",
    "}\n",
    "\n",
    "best_paper_ids = defaultdict(list)\n",
    "for i,p in enumerate(all_papers): \n",
    "    for best_key in best_papers:\n",
    "        for best_title in best_papers[best_key]:\n",
    "            if p['title'].lower().startswith(best_title.lower()):\n",
    "                best_paper_ids[best_key].append(i)\n",
    "\n",
    "#check all best papers are found\n",
    "for best_key in best_papers:\n",
    "    assert len(best_papers[best_key]) == len(best_paper_ids[best_key])\n",
    "\n",
    "with open(best_paper_ids_pkl, 'wb') as f:\n",
    "    pickle.dump(best_paper_ids, f)"
   ]
  },
  {
   "cell_type": "markdown",
   "id": "2eb99890-1c5f-4163-977d-b7ee805037f2",
   "metadata": {},
   "source": [
    "## Generate mp3 for overview and best Papers "
   ]
  },
  {
   "cell_type": "code",
   "execution_count": 8,
   "id": "2dfe926f-373f-4608-a599-078267afd2a7",
   "metadata": {},
   "outputs": [],
   "source": [
    "from utils.paper_ontology import create_mp3\n",
    "paper_mp3.mkdir(parents=False, exist_ok=False)\n",
    "\n",
    "for i in tqdm(best_paper_ids['Best Paper']):\n",
    "    create_mp3(summaries[i], Path(paper_mp3, 'paper_'+str(i)+'.mp3'))"
   ]
  },
  {
   "cell_type": "code",
   "execution_count": null,
   "id": "44fc988c-7b22-4d64-88e3-e5939b1adfe6",
   "metadata": {},
   "outputs": [],
   "source": []
  },
  {
   "cell_type": "code",
   "execution_count": 25,
   "id": "4c4c446a-6643-4ab8-b481-514e0d159a4d",
   "metadata": {},
   "outputs": [
    {
     "data": {
      "text/markdown": [
       "Hello everyone!  Today, we're going to explore some super cool things computer scientists are working on.  It's all about making computers smarter and more helpful!  I'll explain some of the amazing research presented at a recent conference.\n",
       "\n",
       "**Section 1:  What Computers Can Do Now (Major Use Cases)**\n",
       "\n",
       "Imagine computers that can design better medicines, predict the weather more accurately, or even help you find exactly what you’re looking for in a huge online store! These are some of the things computer scientists are making possible.  At this conference, researchers showed us how computers are getting better at:\n",
       "\n",
       "* **Designing new materials:**  Computers can now help predict the shape and properties of tiny materials (nanomaterials), leading to better batteries, medicines, and even stronger buildings.\n",
       "* **Optimizing business processes:**  Computers are learning to make better decisions all on their own (Reinforcement Learning), helping businesses allocate resources efficiently, improve their supply chains, and personalize marketing campaigns.\n",
       "* **Understanding images and text:**  Computers can now “understand” both pictures and words, allowing for better image searches, automated descriptions of images, and improved content moderation.\n",
       "* **Making accurate predictions:**  Computers are getting better at predicting future trends (like sales or stock prices) by analyzing time series data. They’re also making great strides in predicting the properties of molecules, essential for drug discovery.\n",
       "* **Generating realistic data:**  Computers can create synthetic data—artificial data that mimics real data—including images, videos, text, and sounds. This is helpful for testing, improving existing models, and protecting privacy.\n",
       "* **Automating complex tasks:**   Computers can use AI to write code, perform various actions on web pages, or even act as virtual assistants that automate many tasks you do every day.\n",
       "* **Improving health:**   AI is analyzing medical data like EEGs and CT scans to detect illnesses earlier and with greater accuracy, leading to better treatment and improved patient care.\n",
       "* **Creating 3D models:** Computers are learning to create realistic 3D models of moving objects from videos, which has implications for everything from gaming to robotics to medical imaging.\n",
       "* **Protecting your data:**  Computer scientists are creating new ways to analyze sensitive data while maintaining strong privacy guarantees using techniques like differential privacy.\n",
       "\n",
       "\n",
       "**Section 2:  The Problems Computers Are Solving**\n",
       "\n",
       "These amazing capabilities solve some serious problems:\n",
       "\n",
       "* **Slow and expensive material development:**  Creating new nanomaterials is currently a slow and expensive process. AI can speed things up and reduce costs.\n",
       "* **Inefficient decision-making:**  Businesses often struggle to make the best decisions under uncertainty.  AI can help by learning optimal strategies through trial and error.\n",
       "* **Difficulty in processing large images and text:** Analyzing very large amounts of data is often difficult for computers.  Improved methods allow for efficient processing.\n",
       "* **Inaccurate predictions:**  Existing forecasting models might be imprecise, leading to poor planning and resource allocation.  AI is improving these predictions.\n",
       "* **Lack of realistic synthetic data:** Generating realistic simulated environments or data is computationally expensive. Advanced AI is making this more affordable and achievable.\n",
       "* **Difficulty in automating complex tasks:** Automating things like answering complex questions from data or interacting with web pages is challenging.  New AI models are getting significantly better at doing this.\n",
       "* **Compromised data privacy:** Many business decisions rely on sensitive customer data.   Improved AI methods enhance privacy protection during model training.\n",
       "* **Slow and costly model training:** Training large AI models can take a very long time and require lots of computational resources, adding to business costs. This is also a problem when trying to adapt to new tasks, or handle situations where you don't have access to all the model's components (\"black-box\").  Improved training methods can improve this considerably.\n",
       "* **Poorly calibrated models (overconfidence):** Highly accurate models can sometimes be overconfident in their predictions, leading to risky decisions.  New methods are improving model reliability.\n",
       "\n",
       "\n",
       "**Section 3: How Computers Are Solving These Problems**\n",
       "\n",
       "Computer scientists use many clever techniques:\n",
       "\n",
       "* **Artificial Intelligence (AI):**  This is the overall field of making computers smarter, encompassing the techniques below.\n",
       "* **Machine Learning (ML):**  This is like teaching a computer to learn from examples, without being explicitly programmed.\n",
       "* **Deep Learning:** This is a more advanced type of machine learning, typically involving complex interconnected systems called neural networks.  These neural networks have a similar concept to the structure of the human brain.\n",
       "* **Reinforcement Learning:** This is like teaching a computer through trial and error using \"rewards\" for correct answers.\n",
       "* **Neural Networks:**  These are the mathematical models that act like the \"brains\" of AI systems.  They are inspired by the network of neurons in the human brain.\n",
       "* **Graph Neural Networks:**  Specifically for handling data that consists of networks of relationships (like customers and products).\n",
       "* **Transformers:**  An extremely efficient and powerful type of neural network used for tasks like language processing and image understanding.\n",
       "* **Diffusion Models:**  A powerful technique for generating images or other data by gradually adding and removing noise from a signal.\n",
       "* **Optimal Transport:** A mathematical framework for comparing and transforming data distributions.  It is used to understand similarities and differences between datasets.\n",
       "* **Bayesian Methods:** A way of using probabilistic modeling to quantify and handle uncertainty, making it applicable to situations with limited or incomplete data.  This enables incorporating existing knowledge (\"prior\" information).\n",
       "* **Genetic Programming and Evolutionary Algorithms:** These strategies automate the process of improving models, similar to how evolution works.\n",
       "* **Various Optimization Algorithms:**  Computer scientists use sophisticated math to find the best settings for AI models, including gradient descent, Adam, and other more advanced methods.  These methods are designed to find solutions to complex mathematical problems efficiently.\n",
       "* **Various statistical techniques:**  Including maximum likelihood estimation, hypothesis testing, and Bayesian inference, depending on the specific problem.\n",
       "* **Cryptographic methods:** Used to protect sensitive data during analysis using methods like differential privacy and secure multi-party computation.  This ensures the privacy of each individual data contribution.\n",
       "\n",
       "\n",
       "\n",
       "**Section 4:  The Future of Computer Science**\n",
       "\n",
       "There's so much more to discover!  Researchers are working on:\n",
       "\n",
       "* **Making AI more efficient and sustainable:**  Reducing the energy needed to run AI models and reducing their environmental impact.\n",
       "* **Building more trustworthy and reliable AI:**  Developing methods to ensure AI systems are less prone to errors and biases.\n",
       "* **Improving AI explainability:**  Making it easier to understand how AI models make their decisions.\n",
       "* **Developing AI that can learn and adapt continuously:**  Creating AI systems that can learn from new data without \"forgetting\" what they already know.\n",
       "* **Expanding AI capabilities:**  Improving the way AI processes images, videos, sound, and other types of data.\n",
       "* **Creating better tools for automating various tasks:**   This includes developing AI models for tasks like code generation, web automation, and even acting as virtual assistants.\n",
       "* **Creating better methods for combining various types of data:** This includes methods to combine image and text data for advanced analysis, or combining various time-series data that may be collected at different frequencies (daily, monthly, quarterly).\n",
       "* **Improving methods for handling large datasets and optimizing AI model performance**:  This involves making models work efficiently with less data and improving the speed and stability of the training process.  It also involves handling \"noisy\" data (data with errors) and making models less sensitive to these errors.\n",
       "\n",
       "\n",
       "Computer science is a field full of exciting possibilities!  I hope this overview has sparked your curiosity and maybe even inspired you to learn more.\n"
      ],
      "text/plain": [
       "<IPython.core.display.Markdown object>"
      ]
     },
     "execution_count": 25,
     "metadata": {},
     "output_type": "execute_result"
    }
   ],
   "source": [
    "with open(paper_overview, 'rb') as f:\n",
    "    overview = pickle.load(f)\n",
    "\n",
    "Markdown(overview)\n",
    "#create_mp3(Markdown(overview), Path(paper_mp3, 'overview.mp3'))"
   ]
  },
  {
   "cell_type": "code",
   "execution_count": 29,
   "id": "abf5af40-9b28-422b-a901-cb057bc091b3",
   "metadata": {},
   "outputs": [
    {
     "data": {
      "text/plain": [
       "0"
      ]
     },
     "execution_count": 29,
     "metadata": {},
     "output_type": "execute_result"
    }
   ],
   "source": [
    "overview_text = \\\n",
    "'''\n",
    "Hello everyone! Today, we're going to explore some super cool things computer scientists are working on. It's all about making computers smarter and more helpful! I'll explain some of the amazing research presented at a recent conference.\n",
    "\n",
    "Section 1: What Computers Can Do Now (Major Use Cases)\n",
    "\n",
    "Imagine computers that can design better medicines, predict the weather more accurately, or even help you find exactly what you’re looking for in a huge online store! These are some of the things computer scientists are making possible. At this conference, researchers showed us how computers are getting better at:\n",
    "\n",
    "Designing new materials: Computers can now help predict the shape and properties of tiny materials (nanomaterials), leading to better batteries, medicines, and even stronger buildings.\n",
    "Optimizing business processes: Computers are learning to make better decisions all on their own (Reinforcement Learning), helping businesses allocate resources efficiently, improve their supply chains, and personalize marketing campaigns.\n",
    "Understanding images and text: Computers can now “understand” both pictures and words, allowing for better image searches, automated descriptions of images, and improved content moderation.\n",
    "Making accurate predictions: Computers are getting better at predicting future trends (like sales or stock prices) by analyzing time series data. They’re also making great strides in predicting the properties of molecules, essential for drug discovery.\n",
    "Generating realistic data: Computers can create synthetic data—artificial data that mimics real data—including images, videos, text, and sounds. This is helpful for testing, improving existing models, and protecting privacy.\n",
    "Automating complex tasks: Computers can use AI to write code, perform various actions on web pages, or even act as virtual assistants that automate many tasks you do every day.\n",
    "Improving health: AI is analyzing medical data like EEGs and CT scans to detect illnesses earlier and with greater accuracy, leading to better treatment and improved patient care.\n",
    "Creating 3D models: Computers are learning to create realistic 3D models of moving objects from videos, which has implications for everything from gaming to robotics to medical imaging.\n",
    "Protecting your data: Computer scientists are creating new ways to analyze sensitive data while maintaining strong privacy guarantees using techniques like differential privacy.\n",
    "Section 2: The Problems Computers Are Solving\n",
    "\n",
    "These amazing capabilities solve some serious problems:\n",
    "\n",
    "Slow and expensive material development: Creating new nanomaterials is currently a slow and expensive process. AI can speed things up and reduce costs.\n",
    "Inefficient decision-making: Businesses often struggle to make the best decisions under uncertainty. AI can help by learning optimal strategies through trial and error.\n",
    "Difficulty in processing large images and text: Analyzing very large amounts of data is often difficult for computers. Improved methods allow for efficient processing.\n",
    "Inaccurate predictions: Existing forecasting models might be imprecise, leading to poor planning and resource allocation. AI is improving these predictions.\n",
    "Lack of realistic synthetic data: Generating realistic simulated environments or data is computationally expensive. Advanced AI is making this more affordable and achievable.\n",
    "Difficulty in automating complex tasks: Automating things like answering complex questions from data or interacting with web pages is challenging. New AI models are getting significantly better at doing this.\n",
    "Compromised data privacy: Many business decisions rely on sensitive customer data. Improved AI methods enhance privacy protection during model training.\n",
    "Slow and costly model training: Training large AI models can take a very long time and require lots of computational resources, adding to business costs. This is also a problem when trying to adapt to new tasks, or handle situations where you don't have access to all the model's components (\"black-box\"). Improved training methods can improve this considerably.\n",
    "Poorly calibrated models (overconfidence): Highly accurate models can sometimes be overconfident in their predictions, leading to risky decisions. New methods are improving model reliability.\n",
    "Section 3: How Computers Are Solving These Problems\n",
    "\n",
    "Computer scientists use many clever techniques:\n",
    "\n",
    "Artificial Intelligence (AI): This is the overall field of making computers smarter, encompassing the techniques below.\n",
    "Machine Learning (ML): This is like teaching a computer to learn from examples, without being explicitly programmed.\n",
    "Deep Learning: This is a more advanced type of machine learning, typically involving complex interconnected systems called neural networks. These neural networks have a similar concept to the structure of the human brain.\n",
    "Reinforcement Learning: This is like teaching a computer through trial and error using \"rewards\" for correct answers.\n",
    "Neural Networks: These are the mathematical models that act like the \"brains\" of AI systems. They are inspired by the network of neurons in the human brain.\n",
    "Graph Neural Networks: Specifically for handling data that consists of networks of relationships (like customers and products).\n",
    "Transformers: An extremely efficient and powerful type of neural network used for tasks like language processing and image understanding.\n",
    "Diffusion Models: A powerful technique for generating images or other data by gradually adding and removing noise from a signal.\n",
    "Optimal Transport: A mathematical framework for comparing and transforming data distributions. It is used to understand similarities and differences between datasets.\n",
    "Bayesian Methods: A way of using probabilistic modeling to quantify and handle uncertainty, making it applicable to situations with limited or incomplete data. This enables incorporating existing knowledge (\"prior\" information).\n",
    "Genetic Programming and Evolutionary Algorithms: These strategies automate the process of improving models, similar to how evolution works.\n",
    "Various Optimization Algorithms: Computer scientists use sophisticated math to find the best settings for AI models, including gradient descent, Adam, and other more advanced methods. These methods are designed to find solutions to complex mathematical problems efficiently.\n",
    "Various statistical techniques: Including maximum likelihood estimation, hypothesis testing, and Bayesian inference, depending on the specific problem.\n",
    "Cryptographic methods: Used to protect sensitive data during analysis using methods like differential privacy and secure multi-party computation. This ensures the privacy of each individual data contribution.\n",
    "Section 4: The Future of Computer Science\n",
    "\n",
    "There's so much more to discover! Researchers are working on:\n",
    "\n",
    "Making AI more efficient and sustainable: Reducing the energy needed to run AI models and reducing their environmental impact.\n",
    "Building more trustworthy and reliable AI: Developing methods to ensure AI systems are less prone to errors and biases.\n",
    "Improving AI explainability: Making it easier to understand how AI models make their decisions.\n",
    "Developing AI that can learn and adapt continuously: Creating AI systems that can learn from new data without \"forgetting\" what they already know.\n",
    "Expanding AI capabilities: Improving the way AI processes images, videos, sound, and other types of data.\n",
    "Creating better tools for automating various tasks: This includes developing AI models for tasks like code generation, web automation, and even acting as virtual assistants.\n",
    "Creating better methods for combining various types of data: This includes methods to combine image and text data for advanced analysis, or combining various time-series data that may be collected at different frequencies (daily, monthly, quarterly).\n",
    "Improving methods for handling large datasets and optimizing AI model performance: This involves making models work efficiently with less data and improving the speed and stability of the training process. It also involves handling \"noisy\" data (data with errors) and making models less sensitive to these errors.\n",
    "Computer science is a field full of exciting possibilities! I hope this overview has sparked your curiosity and maybe even inspired you to learn more.\n",
    "'''\n",
    "\n",
    "create_mp3(overview_text, Path(paper_mp3, 'overview.mp3'))\n"
   ]
  },
  {
   "cell_type": "markdown",
   "id": "0ddf8fb9-c33f-4104-afd2-b5ebf0aaa2c0",
   "metadata": {},
   "source": [
    "## Index in neo4j"
   ]
  },
  {
   "cell_type": "code",
   "execution_count": 4,
   "id": "fdb4aa67-2738-4d7a-b440-033edc90a7ae",
   "metadata": {},
   "outputs": [],
   "source": [
    "from utils.paper_QA import *\n",
    "\n",
    "docs = paper2doc(all_papers)"
   ]
  },
  {
   "cell_type": "code",
   "execution_count": 9,
   "id": "aaf7c101-580a-49ce-987c-8c8938cb1a2f",
   "metadata": {},
   "outputs": [
    {
     "data": {
      "text/plain": [
       "[0, 100, 200, 300, 400, 500, 600, 700, 800, 900]"
      ]
     },
     "execution_count": 9,
     "metadata": {},
     "output_type": "execute_result"
    }
   ],
   "source": [
    "[i for i in range(0, 1000, 100)]"
   ]
  },
  {
   "cell_type": "code",
   "execution_count": 32,
   "id": "220d582e-ccaa-4712-bb8a-281cf93fbafb",
   "metadata": {},
   "outputs": [],
   "source": [
    "import time\n",
    "\n",
    "NEO4J_URI='neo4j+s://e0a3a179.databases.neo4j.io'\n",
    "NEO4J_USERNAME='neo4j'\n",
    "NEO4J_PASSWORD='<>'"
   ]
  },
  {
   "cell_type": "code",
   "execution_count": null,
   "id": "d1a10e1e-904d-4d11-8449-def99c5b58aa",
   "metadata": {},
   "outputs": [],
   "source": []
  },
  {
   "cell_type": "code",
   "execution_count": null,
   "id": "4bb3160b-2022-4277-bbff-5127a6f6d559",
   "metadata": {},
   "outputs": [],
   "source": [
    "db = EmbeddingDB(NEO4J_URI, NEO4J_USERNAME, NEO4J_PASSWORD, docs[:100])"
   ]
  },
  {
   "cell_type": "code",
   "execution_count": null,
   "id": "2340f3fa-eff8-4293-8fbc-4f6983cfa621",
   "metadata": {},
   "outputs": [
    {
     "name": "stderr",
     "output_type": "stream",
     "text": [
      "  7%|█████▉                                                                             | 17/240 [13:46<2:25:35, 39.17s/it][#D4D2]  _: <CONNECTION> error: Failed to read from defunct connection IPv4Address(('e0a3a179.databases.neo4j.io', 7687)) (ResolvedIPv4Address(('34.28.184.63', 7687))): OSError('No data')\n",
      "Transaction failed and will be retried in 0.8328822951575565s (Failed to read from defunct connection IPv4Address(('e0a3a179.databases.neo4j.io', 7687)) (ResolvedIPv4Address(('34.28.184.63', 7687))))\n",
      " 25%|████████████████████▊                                                              | 60/240 [42:11<2:00:51, 40.29s/it][#D4D1]  _: <CONNECTION> error: Failed to read from defunct connection ResolvedIPv4Address(('34.28.184.63', 7687)) (ResolvedIPv4Address(('34.28.184.63', 7687))): OSError('No data')\n",
      "Unable to retrieve routing information\n",
      "Transaction failed and will be retried in 0.8240881554011467s (Unable to retrieve routing information)\n",
      " 38%|███████████████████████████████                                                  | 92/240 [1:02:49<1:40:20, 40.68s/it]"
     ]
    }
   ],
   "source": [
    "\n",
    "for i in tqdm(range(700, len(docs), 100)):\n",
    "    db.insert(docs[i:min(i+100, len(docs))])\n",
    "    time.sleep(30)"
   ]
  },
  {
   "cell_type": "code",
   "execution_count": null,
   "id": "6c5c978f-6b40-4edf-9784-c779b4e6e79b",
   "metadata": {},
   "outputs": [],
   "source": []
  },
  {
   "cell_type": "markdown",
   "id": "6dbebc5b-0b2c-4ec0-af98-6730cb3d506b",
   "metadata": {},
   "source": [
    "## Query Neo4j"
   ]
  },
  {
   "cell_type": "code",
   "execution_count": 33,
   "id": "d41d23d9-a8cf-411b-9afa-e0478e79c38f",
   "metadata": {},
   "outputs": [
    {
     "name": "stdout",
     "output_type": "stream",
     "text": [
      "Connection established.\n"
     ]
    }
   ],
   "source": [
    "from neo4j import GraphDatabase\n",
    "\n",
    "with GraphDatabase.driver(NEO4J_URI, auth=(NEO4J_USERNAME, NEO4J_PASSWORD)) as driver:\n",
    "    driver.verify_connectivity()\n",
    "    print(\"Connection established.\")"
   ]
  },
  {
   "cell_type": "code",
   "execution_count": 36,
   "id": "f27acf60-1f10-435e-847b-fd93ce5c1007",
   "metadata": {},
   "outputs": [],
   "source": [
    "from langchain_neo4j import Neo4jVector\n",
    "from langchain_google_genai import GoogleGenerativeAIEmbeddings\n",
    "import os\n",
    "\n",
    "if \"GOOGLE_API_KEY\" not in os.environ:\n",
    "    os.environ[\"GOOGLE_API_KEY\"] = \"<>\"\n",
    "\n",
    "index_name = \"vector\"  # default index name\n",
    "embeddings = GoogleGenerativeAIEmbeddings(model=\"models/text-embedding-004\")\n",
    "\n",
    "store = Neo4jVector.from_existing_index(\n",
    "    embeddings,\n",
    "    url=NEO4J_URI,\n",
    "    username=NEO4J_USERNAME,\n",
    "    password=NEO4J_PASSWORD,\n",
    "    index_name=index_name,\n",
    ")"
   ]
  },
  {
   "cell_type": "code",
   "execution_count": 59,
   "id": "6ae3d81d-d1b4-4f28-a39b-3e32d5a28af1",
   "metadata": {},
   "outputs": [],
   "source": [
    "query = 'Why is it difficult to process large images and text?'\n",
    "docs = store.similarity_search_with_score(query, k=5)"
   ]
  },
  {
   "cell_type": "code",
   "execution_count": 62,
   "id": "26873f12-a61f-46b2-bac4-fa4096c1ab86",
   "metadata": {},
   "outputs": [
    {
     "data": {
      "text/plain": [
       "{'section_title': '1. Introduction', 'title': ''}"
      ]
     },
     "execution_count": 62,
     "metadata": {},
     "output_type": "execute_result"
    }
   ],
   "source": [
    "docs[0][0].metadata"
   ]
  },
  {
   "cell_type": "code",
   "execution_count": 50,
   "id": "6634e376-5863-4d60-a997-aae9095d022e",
   "metadata": {},
   "outputs": [],
   "source": [
    "context = ''\n",
    "for doc, score in docs:\n",
    "    context += doc.page_content + '\\n'\n",
    "\n",
    "prompt = f'Answer question based on given context. Question: {query} \\n Context: {context}'\n",
    "response = flash.generate_content(prompt)"
   ]
  },
  {
   "cell_type": "code",
   "execution_count": 51,
   "id": "29366274-5569-440d-874a-e2d26941eda3",
   "metadata": {},
   "outputs": [
    {
     "data": {
      "text/plain": [
       "response:\n",
       "GenerateContentResponse(\n",
       "    done=True,\n",
       "    iterator=None,\n",
       "    result=protos.GenerateContentResponse({\n",
       "      \"candidates\": [\n",
       "        {\n",
       "          \"content\": {\n",
       "            \"parts\": [\n",
       "              {\n",
       "                \"text\": \"Processing large images and text is difficult due to memory limitations in modern computer systems.  Current computer vision models are trained on smaller images, and processing large images requires either down-sampling or cropping, both of which lead to a significant loss of high-frequency information and global context crucial for many real-world tasks.  In the case of text, the encoding cost scales quadratically with sequence length, making processing very long texts computationally expensive.\\n\"\n",
       "              }\n",
       "            ],\n",
       "            \"role\": \"model\"\n",
       "          },\n",
       "          \"finish_reason\": \"STOP\",\n",
       "          \"avg_logprobs\": -0.16437047251154868\n",
       "        }\n",
       "      ],\n",
       "      \"usage_metadata\": {\n",
       "        \"prompt_token_count\": 3269,\n",
       "        \"candidates_token_count\": 89,\n",
       "        \"total_token_count\": 3358\n",
       "      }\n",
       "    }),\n",
       ")"
      ]
     },
     "execution_count": 51,
     "metadata": {},
     "output_type": "execute_result"
    }
   ],
   "source": [
    "response"
   ]
  },
  {
   "cell_type": "markdown",
   "id": "0a53a253-e023-4b3f-a4b4-dbb8aed04d42",
   "metadata": {},
   "source": [
    "## Store files for streamlit"
   ]
  },
  {
   "cell_type": "code",
   "execution_count": null,
   "id": "8b65d6cc-c184-461b-ac68-ec05f5633e9c",
   "metadata": {},
   "outputs": [],
   "source": [
    "paper_pdf_dir = Path(PROJECT_DIR, 'paper_pdfs')\n",
    "paper_summaries = Path(PROJECT_DIR, 'paper_summaries')\n",
    "paper_parsed_dir = Path(PROJECT_DIR, 'paper_parsed.pkl')\n",
    "paper_summaries_pkl = Path(PROJECT_DIR, 'paper_summaries.pkl') #{'overview':<>, 'best':[{'tag':<>. 'summary':<>}, ], 'all': []}\n",
    "paper_overview = Path(PROJECT_DIR, 'paper_overview.pkl')\n",
    "best_paper_ids_pkl = Path(PROJECT_DIR, 'best_paper_ids.pkl')\n",
    "paper_mp3 = Path(PROJECT_DIR, 'mp3') #overview.mp3, <tag>.mp3"
   ]
  },
  {
   "cell_type": "code",
   "execution_count": 57,
   "id": "f2784b67-954d-4ed3-b8ab-0afbf4ea3027",
   "metadata": {},
   "outputs": [],
   "source": [
    "streamlit_data_file = Path(PROJECT_DIR, 'streamlit_data.pkl')\n",
    "\n",
    "with open(paper_summaries_pkl, 'rb') as f:\n",
    "    summaries = pickle.load(f)\n",
    "\n",
    "with open(paper_overview, 'rb') as f:\n",
    "    overview = pickle.load(f)\n",
    "\n",
    "with open(best_paper_ids_pkl, 'rb') as f:\n",
    "    best_paper_ids = pickle.load(f)\n",
    "\n",
    "titles = [p['title'] for p in all_papers]\n",
    "\n",
    "with open(streamlit_data_file, 'wb') as f:\n",
    "    pickle.dump((summaries, overview, best_paper_ids, titles), f)"
   ]
  },
  {
   "cell_type": "code",
   "execution_count": 55,
   "id": "423c05ee-8792-4b06-8940-607f15a6cf2b",
   "metadata": {},
   "outputs": [
    {
     "data": {
      "text/plain": [
       "2610"
      ]
     },
     "execution_count": 55,
     "metadata": {},
     "output_type": "execute_result"
    }
   ],
   "source": [
    "len(titles)"
   ]
  },
  {
   "cell_type": "code",
   "execution_count": 56,
   "id": "24c93cc7-d390-45fe-8d3d-1a6356b3e005",
   "metadata": {},
   "outputs": [
    {
     "data": {
      "text/plain": [
       "2610"
      ]
     },
     "execution_count": 56,
     "metadata": {},
     "output_type": "execute_result"
    }
   ],
   "source": [
    "len(summaries)"
   ]
  },
  {
   "cell_type": "code",
   "execution_count": 58,
   "id": "1823aa19-4f91-4f41-a9e2-738ee1ca4b4b",
   "metadata": {},
   "outputs": [
    {
     "data": {
      "text/plain": [
       "defaultdict(list,\n",
       "            {'Best Paper': [81, 220, 530, 1297, 1298, 1476, 1725, 1858, 2033]})"
      ]
     },
     "execution_count": 58,
     "metadata": {},
     "output_type": "execute_result"
    }
   ],
   "source": [
    "best_paper_ids"
   ]
  },
  {
   "cell_type": "code",
   "execution_count": null,
   "id": "c82622e9-4383-4635-8442-e8ebbffbd41a",
   "metadata": {},
   "outputs": [],
   "source": []
  }
 ],
 "metadata": {
  "kernelspec": {
   "display_name": "Python 3 (ipykernel)",
   "language": "python",
   "name": "python3"
  },
  "language_info": {
   "codemirror_mode": {
    "name": "ipython",
    "version": 3
   },
   "file_extension": ".py",
   "mimetype": "text/x-python",
   "name": "python",
   "nbconvert_exporter": "python",
   "pygments_lexer": "ipython3",
   "version": "3.12.7"
  }
 },
 "nbformat": 4,
 "nbformat_minor": 5
}
